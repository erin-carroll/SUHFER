{
 "cells": [
  {
   "cell_type": "code",
   "execution_count": 1,
   "id": "53dbdc06-011d-471e-8554-1c95a9fe5fb5",
   "metadata": {},
   "outputs": [],
   "source": [
    "import json\n",
    "import os\n",
    "from datetime import datetime"
   ]
  },
  {
   "cell_type": "code",
   "execution_count": 2,
   "id": "59539f46-33f8-4f71-9958-725f53ca7068",
   "metadata": {},
   "outputs": [],
   "source": [
    "bucket_path = \"gs://suhfer_gee_assets\"\n",
    "gee_path = \"projects/suhfer/assets/NDVI_monthly\"\n",
    "years = list(range(2018, 2025))  # adjust to your year range\n",
    "months = [7,8,9]"
   ]
  },
  {
   "cell_type": "code",
   "execution_count": 5,
   "id": "8f460a48-5ad7-4471-8fc0-a409057bb5ca",
   "metadata": {},
   "outputs": [],
   "source": [
    "os.makedirs('C:/Users/erinc/Documents/GitHub/SUHFER/manifests/', exist_ok=True)"
   ]
  },
  {
   "cell_type": "code",
   "execution_count": 6,
   "id": "35bbac6c-34dd-4700-98ac-89f55036dde0",
   "metadata": {},
   "outputs": [],
   "source": [
    "for year in years:\n",
    "    for month in months:\n",
    "        if month==7:\n",
    "            month_word = 'jul'\n",
    "        if month==8:\n",
    "            month_word = 'aug'\n",
    "        if month==9:\n",
    "            month_word = 'sep'\n",
    "            \n",
    "        manifest = {\n",
    "            \"name\": f\"{gee_path}/ndvi_{year}_{month}\",\n",
    "            \"tilesets\": [{\n",
    "                \"sources\": [{\n",
    "                    \"uris\": [f\"{bucket_path}/{year}_{month}{month_word}_NDVI.tif\"]\n",
    "                }]\n",
    "            }],\n",
    "            \"startTime\": f\"{year}-0{month}-01T00:00:00Z\",\n",
    "            \"endTime\": f\"{year}-0{month+1}-01T00:00:00Z\"\n",
    "        }\n",
    "    \n",
    "        with open(f\"manifests/NDVI/manifest_{year}_{month}.json\", \"w\") as f:\n",
    "            json.dump(manifest, f, indent=2)"
   ]
  },
  {
   "cell_type": "code",
   "execution_count": null,
   "id": "2c11646f-e42e-4151-be69-53b6936ad272",
   "metadata": {},
   "outputs": [],
   "source": []
  }
 ],
 "metadata": {
  "kernelspec": {
   "display_name": "Python 3 (ipykernel)",
   "language": "python",
   "name": "python3"
  },
  "language_info": {
   "codemirror_mode": {
    "name": "ipython",
    "version": 3
   },
   "file_extension": ".py",
   "mimetype": "text/x-python",
   "name": "python",
   "nbconvert_exporter": "python",
   "pygments_lexer": "ipython3",
   "version": "3.11.7"
  }
 },
 "nbformat": 4,
 "nbformat_minor": 5
}
