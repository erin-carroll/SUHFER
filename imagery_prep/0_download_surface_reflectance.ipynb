{
 "cells": [
  {
   "cell_type": "code",
   "execution_count": 1,
   "id": "a9f8c7d5-c843-4452-9d36-2ddf976ff451",
   "metadata": {},
   "outputs": [],
   "source": [
    "import sys\n",
    "sys.path.append('/global/home/users/erin_carroll/SUFHER')\n",
    "from utilities import *"
   ]
  },
  {
   "cell_type": "code",
   "execution_count": 2,
   "id": "f919cecb-17a7-4a8a-ac97-2983bea19c34",
   "metadata": {},
   "outputs": [],
   "source": [
    "# define filepaths, generate output folders\n",
    "aoi_name = 'GMUG_'\n",
    "home = '/global/scratch/users/erin_carroll/'\n",
    "tif_folder = home+'/data/tifs/'+aoi_name\n",
    "years=range(2017,2025)\n",
    "months=['jul','aug','sep']\n",
    "tiles = ['12SXH','12SXJ','12SYG','12SYH','12SYJ','13SBB','13SBC','13SBD','13SCC','13SCD'] # previously identified in arc gis"
   ]
  },
  {
   "cell_type": "code",
   "execution_count": null,
   "id": "e0b58ef1-1470-4a47-b1a1-ac015c4f4720",
   "metadata": {},
   "outputs": [],
   "source": [
    "# run each tile as its own SLURM batch script\n",
    "t = tiles[0]"
   ]
  },
  {
   "cell_type": "code",
   "execution_count": null,
   "id": "98533a7c-2310-441f-9c14-c525f5a38f97",
   "metadata": {},
   "outputs": [],
   "source": [
    "# set up folder structure\n",
    "for y in years:\n",
    "    for m in months:\n",
    "        os.makedirs(os.path.join(tif_folder, t, str(y), m), exist_ok=True)"
   ]
  },
  {
   "cell_type": "code",
   "execution_count": null,
   "id": "52d01609-692a-4b47-97b7-06bfa9ad9165",
   "metadata": {},
   "outputs": [],
   "source": [
    "# define years/months to skip as desired\n",
    "skip = []\n",
    "# skip = [x+str(y) for x in months for y in range(2017, 2020)]"
   ]
  },
  {
   "cell_type": "code",
   "execution_count": null,
   "id": "5e68930c-5731-4f27-87e6-59b813ddab1e",
   "metadata": {},
   "outputs": [],
   "source": [
    "# download all available L2a data for each tile, year, month\n",
    "download_raw_zip_files(username=\"erin_carroll@berkeley.edu\", password=\"CQW_kc_2K-Pq!4u\", years=years, months=months, tile=t, tif_folder=tif_folder, skip=skip)"
   ]
  }
 ],
 "metadata": {
  "kernelspec": {
   "display_name": "CNN_GDAL_37",
   "language": "python",
   "name": "cnn_gdal_37"
  },
  "language_info": {
   "codemirror_mode": {
    "name": "ipython",
    "version": 3
   },
   "file_extension": ".py",
   "mimetype": "text/x-python",
   "name": "python",
   "nbconvert_exporter": "python",
   "pygments_lexer": "ipython3",
   "version": "3.7.12"
  }
 },
 "nbformat": 4,
 "nbformat_minor": 5
}
