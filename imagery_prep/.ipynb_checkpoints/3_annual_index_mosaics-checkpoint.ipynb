{
 "cells": [
  {
   "cell_type": "code",
   "execution_count": 1,
   "id": "c178c210-6724-4385-876b-a0f780dcbf62",
   "metadata": {},
   "outputs": [
    {
     "name": "stderr",
     "output_type": "stream",
     "text": [
      "2025-04-08 11:23:48.793560: W tensorflow/stream_executor/platform/default/dso_loader.cc:64] Could not load dynamic library 'libcudart.so.11.0'; dlerror: libcudart.so.11.0: cannot open shared object file: No such file or directory\n",
      "2025-04-08 11:23:48.793623: I tensorflow/stream_executor/cuda/cudart_stub.cc:29] Ignore above cudart dlerror if you do not have a GPU set up on your machine.\n"
     ]
    }
   ],
   "source": [
    "import sys\n",
    "sys.path.append('/global/home/users/erin_carroll/SUFHER')\n",
    "from utilities import *\n",
    "\n",
    "from joblib import Parallel, delayed "
   ]
  },
  {
   "cell_type": "code",
   "execution_count": 2,
   "id": "f45c4e4c-47ce-4720-9dac-da1b00a435b0",
   "metadata": {},
   "outputs": [],
   "source": [
    "# define filepaths, objects\n",
    "\n",
    "aoi_name = 'GMUG_'\n",
    "home = '/global/scratch/users/erin_carroll/'\n",
    "tif_folder = home+'/data/tifs/'+aoi_name\n",
    "years = range(2017,2025)\n",
    "months = ['jul','aug','sep']\n",
    "indices = ['NDMI', 'NDVI']\n",
    "\n",
    "# predefined - all s2 tiles which substantially intersect the GMUG\n",
    "tiles = ['12SXH','12SXJ','12SYG','12SYH','12SYJ','13SBB','13SBC','13SBD','13SCC','13SCD']\n",
    "\n",
    "# gmug boundary polygon\n",
    "target_crs = 32613\n",
    "gmug = gpd.read_file(home+'/data/spatial_data/gmug').to_crs(target_crs)"
   ]
  },
  {
   "cell_type": "code",
   "execution_count": null,
   "id": "630ac964-9ebc-424e-83f0-85646fa78899",
   "metadata": {},
   "outputs": [],
   "source": [
    "# generate gmug-scale monthly / annual mosaics\n",
    "\n",
    "# run in parallel (started 10:11pm)\n",
    "\n",
    "args = list(product(years, months, indices, [tif_folder], [target_crs], [gmug]))\n",
    "\n",
    "results = Parallel(n_jobs=3)(\n",
    "    delayed(mosaic_gmug)(year, month, index, tif_folder, target_crs, gmug) for year, month, index, tif_folder, target_crs, gmug in args\n",
    ")"
   ]
  },
  {
   "cell_type": "code",
   "execution_count": 30,
   "id": "97f9073c-eb26-490b-99be-8655ce1f5831",
   "metadata": {},
   "outputs": [],
   "source": [
    "# generate final annual mosaics (across months)\n",
    "\n",
    "def mosaic_gmug_annual(home, tif_folder, y, idx):\n",
    "    fp_out = home+f'SUFHER/gmug_tifs/{idx}/{y}_{idx}.tif' \n",
    "    rs = []\n",
    "    fps = sorted(glob.glob(tif_folder + f'/{y}*{idx}.tif'))\n",
    "    for fp in fps:\n",
    "        with rasterio.open(fp) as src:\n",
    "            rs.append(src.read(1))\n",
    "            out_meta = src.meta\n",
    "    max_composite = np.nanmax(np.stack(rs), axis=0)\n",
    "    out_meta.update({'compress':'lzw', 'tiled':True})\n",
    "    with rasterio.open(fp_out, 'w', **out_meta) as dst:\n",
    "        dst.write(max_composite, 1)\n",
    "    os.sync()\n",
    "    gc.collect()"
   ]
  },
  {
   "cell_type": "code",
   "execution_count": null,
   "id": "f0d64bba-40f7-4b1f-a03a-db2bc344c165",
   "metadata": {},
   "outputs": [],
   "source": [
    "args = list(product([home], [tif_folder], years, indices))\n",
    "\n",
    "results = Parallel(n_jobs=2)(\n",
    "    delayed(mosaic_gmug_annual)(home, tif_folder, y, idx) for home, tif_folder, y, idx in args\n",
    ")"
   ]
  },
  {
   "cell_type": "code",
   "execution_count": null,
   "id": "2a47254e-108d-4ffc-aacf-ec1c2ed60f70",
   "metadata": {},
   "outputs": [],
   "source": []
  }
 ],
 "metadata": {
  "kernelspec": {
   "display_name": "CNN_GDAL_37",
   "language": "python",
   "name": "cnn_gdal_37"
  },
  "language_info": {
   "codemirror_mode": {
    "name": "ipython",
    "version": 3
   },
   "file_extension": ".py",
   "mimetype": "text/x-python",
   "name": "python",
   "nbconvert_exporter": "python",
   "pygments_lexer": "ipython3",
   "version": "3.7.12"
  }
 },
 "nbformat": 4,
 "nbformat_minor": 5
}
