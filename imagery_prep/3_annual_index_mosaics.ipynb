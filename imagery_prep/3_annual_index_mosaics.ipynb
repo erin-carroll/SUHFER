{
 "cells": [
  {
   "cell_type": "code",
   "execution_count": 1,
   "id": "c178c210-6724-4385-876b-a0f780dcbf62",
   "metadata": {},
   "outputs": [
    {
     "name": "stderr",
     "output_type": "stream",
     "text": [
      "2025-04-07 22:10:07.972086: W tensorflow/stream_executor/platform/default/dso_loader.cc:64] Could not load dynamic library 'libcudart.so.11.0'; dlerror: libcudart.so.11.0: cannot open shared object file: No such file or directory\n",
      "2025-04-07 22:10:07.972143: I tensorflow/stream_executor/cuda/cudart_stub.cc:29] Ignore above cudart dlerror if you do not have a GPU set up on your machine.\n"
     ]
    }
   ],
   "source": [
    "import sys\n",
    "sys.path.append('/global/home/users/erin_carroll/SUFHER')\n",
    "from utilities import *\n",
    "\n",
    "from joblib import Parallel, delayed "
   ]
  },
  {
   "cell_type": "code",
   "execution_count": 2,
   "id": "f45c4e4c-47ce-4720-9dac-da1b00a435b0",
   "metadata": {},
   "outputs": [],
   "source": [
    "# define filepaths, objects\n",
    "\n",
    "aoi_name = 'GMUG_'\n",
    "home = '/global/scratch/users/erin_carroll/'\n",
    "tif_folder = home+'/data/tifs/'+aoi_name\n",
    "years = range(2017,2025)\n",
    "months = ['jul','aug','sep']\n",
    "indices = ['NDMI', 'NDVI']\n",
    "\n",
    "# predefined - all s2 tiles which substantially intersect the GMUG\n",
    "tiles = ['12SXH','12SXJ','12SYG','12SYH','12SYJ','13SBB','13SBC','13SBD','13SCC','13SCD']\n",
    "\n",
    "# gmug boundary polygon\n",
    "target_crs = 32613\n",
    "gmug = gpd.read_file(home+'/data/spatial_data/gmug').to_crs(target_crs)"
   ]
  },
  {
   "cell_type": "code",
   "execution_count": 3,
   "id": "630ac964-9ebc-424e-83f0-85646fa78899",
   "metadata": {},
   "outputs": [
    {
     "name": "stderr",
     "output_type": "stream",
     "text": [
      "2025-04-07 22:11:37.430398: W tensorflow/stream_executor/platform/default/dso_loader.cc:64] Could not load dynamic library 'libcudart.so.11.0'; dlerror: libcudart.so.11.0: cannot open shared object file: No such file or directory\n",
      "2025-04-07 22:11:37.430392: W tensorflow/stream_executor/platform/default/dso_loader.cc:64] Could not load dynamic library 'libcudart.so.11.0'; dlerror: libcudart.so.11.0: cannot open shared object file: No such file or directory\n",
      "2025-04-07 22:11:37.430427: I tensorflow/stream_executor/cuda/cudart_stub.cc:29] Ignore above cudart dlerror if you do not have a GPU set up on your machine.\n",
      "2025-04-07 22:11:37.430427: I tensorflow/stream_executor/cuda/cudart_stub.cc:29] Ignore above cudart dlerror if you do not have a GPU set up on your machine.\n",
      "2025-04-07 22:11:37.430425: W tensorflow/stream_executor/platform/default/dso_loader.cc:64] Could not load dynamic library 'libcudart.so.11.0'; dlerror: libcudart.so.11.0: cannot open shared object file: No such file or directory\n",
      "2025-04-07 22:11:37.430454: I tensorflow/stream_executor/cuda/cudart_stub.cc:29] Ignore above cudart dlerror if you do not have a GPU set up on your machine.\n",
      "/global/home/users/erin_carroll/SUFHER/utilities.py:390: RuntimeWarning: All-NaN slice encountered\n",
      "  max_composite = np.nanmax(np.stack(stack), axis=0)\n",
      "/global/home/users/erin_carroll/SUFHER/utilities.py:390: RuntimeWarning: All-NaN slice encountered\n",
      "  max_composite = np.nanmax(np.stack(stack), axis=0)\n",
      "/global/home/users/erin_carroll/SUFHER/utilities.py:390: RuntimeWarning: All-NaN slice encountered\n",
      "  max_composite = np.nanmax(np.stack(stack), axis=0)\n"
     ]
    }
   ],
   "source": [
    "# run in parallel (started 10:11pm)\n",
    "\n",
    "args = list(product(years, months, indices, [tif_folder], [target_crs], [gmug]))\n",
    "\n",
    "results = Parallel(n_jobs=3)(\n",
    "    delayed(mosaic_gmug)(year, month, index, tif_folder, target_crs, gmug) for year, month, index, tif_folder, target_crs, gmug in args\n",
    ")"
   ]
  }
 ],
 "metadata": {
  "kernelspec": {
   "display_name": "CNN_GDAL_37",
   "language": "python",
   "name": "cnn_gdal_37"
  },
  "language_info": {
   "codemirror_mode": {
    "name": "ipython",
    "version": 3
   },
   "file_extension": ".py",
   "mimetype": "text/x-python",
   "name": "python",
   "nbconvert_exporter": "python",
   "pygments_lexer": "ipython3",
   "version": "3.7.12"
  }
 },
 "nbformat": 4,
 "nbformat_minor": 5
}
