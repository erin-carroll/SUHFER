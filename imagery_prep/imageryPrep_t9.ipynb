{
 "cells": [
  {
   "cell_type": "code",
   "execution_count": 1,
   "id": "a9f8c7d5-c843-4452-9d36-2ddf976ff451",
   "metadata": {},
   "outputs": [],
   "source": [
    "import sys\n",
    "sys.path.append('/global/home/users/erin_carroll/SUFHER')\n",
    "from s2_imagery_prep import *"
   ]
  },
  {
   "cell_type": "code",
   "execution_count": 2,
   "id": "f919cecb-17a7-4a8a-ac97-2983bea19c34",
   "metadata": {},
   "outputs": [],
   "source": [
    "# define filepaths, generate output folders\n",
    "aoi_name = 'GMUG_'\n",
    "home = '/global/scratch/users/erin_carroll/'\n",
    "tif_folder = home+'/data/tifs/'+aoi_name\n",
    "years=range(2017,2025)\n",
    "months=['jul','aug','sep']\n",
    "tiles = ['12SXH','12SXJ','12SYG','12SYH','12SYJ','13SBB','13SBC','13SBD','13SCC','13SCD'] # previously identified in arc gis"
   ]
  },
  {
   "cell_type": "code",
   "execution_count": 3,
   "id": "3e95af33-ee41-4d17-8a59-8352bd6ba3ac",
   "metadata": {},
   "outputs": [
    {
     "data": {
      "text/plain": [
       "'13SCD'"
      ]
     },
     "execution_count": 3,
     "metadata": {},
     "output_type": "execute_result"
    }
   ],
   "source": [
    "t = tiles[9]\n",
    "t"
   ]
  },
  {
   "cell_type": "code",
   "execution_count": 4,
   "id": "c7732c53-7002-465a-8e0d-3bd61c9ea7d3",
   "metadata": {},
   "outputs": [],
   "source": [
    "# set up folder structure\n",
    "for y in years:\n",
    "    for m in months:\n",
    "        os.makedirs(os.path.join(tif_folder, t, str(y), m), exist_ok=True)"
   ]
  },
  {
   "cell_type": "code",
   "execution_count": 5,
   "id": "48a9e585-b5eb-481c-8a85-88297f915644",
   "metadata": {},
   "outputs": [],
   "source": [
    "skip = []\n",
    "# skip = [x+str(y) for x in months for y in range(2017, 2020)]\n",
    "# skip.append('jul2020')\n",
    "# skip"
   ]
  },
  {
   "cell_type": "code",
   "execution_count": null,
   "id": "db0698eb-6dbc-4bfe-9d28-d4123115e96d",
   "metadata": {},
   "outputs": [
    {
     "name": "stdout",
     "output_type": "stream",
     "text": [
      "     downloading raw zip files...\n",
      "2017 jul 13SCD\n",
      "11\n",
      "39e212e4-3690-48dd-8dc1-250d1c2615ff\n",
      "71f835e6-5e1d-49c9-a6cf-7c90fac61716\n",
      "5f115bab-a97b-424d-9dc8-2617685754b4\n",
      "5ef2ed4b-af39-4ec4-a746-6b68551129c0\n",
      "8b0d0a7d-b076-4a14-90ef-9f6fed635919\n",
      "401\n",
      "****generating new token*****\n",
      "fba3436e-1529-4874-aff9-0e248eb5e9b9\n",
      "3d73e48b-e0f3-4f6f-b038-e9c287561d6b\n",
      "258e706d-c8ef-4a86-ac26-377a10305378\n",
      "031272b2-b763-470d-a1a7-96aea053d052\n",
      "a8ba73fb-c365-417a-8059-52f4c76be262\n",
      "de4fdbb9-df94-42d8-9ea9-e3437579c6b8\n",
      "2017 aug 13SCD\n",
      "9\n",
      "4418eade-9478-4b97-85c5-8ed3646cb94e\n",
      "a02b95f6-ef05-450d-95b6-cee3b7c66d49\n",
      "381944c2-c4d2-461b-b3ea-256b94d40fb7\n",
      "11b61373-aa31-4f2a-be25-6ba0b6bd12fe\n",
      "49b3d112-2674-4654-a08b-d164567b407f\n",
      "34015b31-8dcd-40ec-bfd8-4940abab3ced\n",
      "819690d9-686f-463f-b073-e8b455d4d177\n",
      "aef7fd7e-3f58-473b-9c14-e97024543238\n",
      "4b06a28a-cb61-4625-978f-21c76b9e6064\n",
      "2017 sep 13SCD\n",
      "10\n",
      "a76700fc-27ba-4bf9-9857-c3da5d63ed92\n",
      "e670e652-a8eb-489c-b04f-c06d6e6bddbe\n",
      "2ec0f04a-3fc7-41f4-8099-cbcf152a239d\n",
      "2455dcc4-d164-49c9-90fe-8c770b521f77\n",
      "b3b68ce6-117e-4f74-a517-176c3c53c5c3\n",
      "fa9afe93-7703-4a5b-88e0-b76615181f84\n",
      "00ec9432-dd78-4f6b-9312-2e676e890557\n",
      "55ac71f0-4147-4821-974e-eae5d991b96a\n",
      "e1685664-bc43-43d1-ae09-7d74b9303624\n",
      "9dbff427-c7d6-47de-a67b-7f95bcc7ed54\n",
      "2018 jul 13SCD\n",
      "13\n",
      "6c96c62e-179b-40da-9af6-edad9f39f672\n",
      "a406d88a-d673-4291-ac40-0e9d14ee4524\n",
      "2c2989d9-0a5a-43ae-8641-131e74aa91f2\n",
      "3c693252-8e34-4db0-9f33-7ed875d92a1e\n",
      "dbdd81ff-3b87-4a8e-9400-a4aca5d46418\n",
      "b45df673-9a98-4464-8ea6-cb1fb826153d\n",
      "bee79f54-5ca7-4158-b90d-0166201cee3f\n",
      "91e61819-1b91-4df0-b45e-59a3b315e0ac\n",
      "e655f720-4ce3-4811-8c3d-2c54563e226c\n",
      "2f6c12e2-093e-488c-b008-b3f1ced30e89\n",
      "401\n",
      "****generating new token*****\n",
      "62db0a21-1110-4688-83d5-2b303f18a4f8\n",
      "a68f3bf4-7f36-4590-b570-a4c22178efcc\n",
      "a7ede1eb-a551-43d7-9b2c-6bebc156e4d6\n",
      "2018 aug 13SCD\n",
      "13\n",
      "e1a5eb9a-a9f1-4f7c-a64f-cfc655f55794\n",
      "da5b6fb6-afd9-41be-ae5b-f431f11dff4e\n",
      "2191f828-c45f-4960-b291-86c180099f84\n",
      "e44d3d79-eb17-4990-b292-f63a5889d7b6\n",
      "b0163d64-d34b-4bf6-b893-8367a478ff01\n",
      "1c1e2b05-6a58-4d41-af8d-5ca7cbe37711\n",
      "b608308c-caa8-4e1e-bf01-29ce24828a4f\n",
      "2c896177-dcc3-4b1e-93cb-014764aec16d\n",
      "cc6641c5-3f5a-4e28-8df4-68596209802f\n",
      "88eec9dd-6266-4ec3-b0db-12c51d20c7a9\n",
      "401\n",
      "****generating new token*****\n",
      "4701c1f2-b1b0-49b5-9375-26e16ff79049\n",
      "c64c6248-f821-4676-893c-6bd90d1d8d3a\n",
      "b4bc1313-c115-44ba-b911-0857d3de6536\n",
      "2018 sep 13SCD\n",
      "12\n",
      "d4f396de-bc8f-4e25-9649-365de4f6b7f0\n",
      "689f64f7-3985-4cba-97e0-4ff8e3d88ff5\n",
      "d12d4a14-66ad-42fa-a6ea-6d156de62499\n",
      "264620a7-dd66-4a40-8aa6-0694de80c0f8\n",
      "b147de8a-25af-4de4-a46c-f0e8beeba731\n",
      "b0116900-0b78-4ecd-9476-20adafb91993\n",
      "150cf159-0124-4f91-b3eb-ac7beef71ff7\n"
     ]
    }
   ],
   "source": [
    "## need to go back and redo jul, aug 2017\n",
    "download_raw_zip_files(username=\"erin_carroll@berkeley.edu\", password=\"CQW_kc_2K-Pq!4u\", years=years, months=months, tile=t, tif_folder=tif_folder, skip=skip)"
   ]
  },
  {
   "cell_type": "code",
   "execution_count": null,
   "id": "48c7d02a-c513-4f20-8128-c789bb56547f",
   "metadata": {},
   "outputs": [],
   "source": []
  },
  {
   "cell_type": "code",
   "execution_count": null,
   "id": "4f399c2f-a466-41fb-a284-9fcce1a08f85",
   "metadata": {},
   "outputs": [],
   "source": []
  }
 ],
 "metadata": {
  "kernelspec": {
   "display_name": "CNN_GDAL_37",
   "language": "python",
   "name": "cnn_gdal_37"
  },
  "language_info": {
   "codemirror_mode": {
    "name": "ipython",
    "version": 3
   },
   "file_extension": ".py",
   "mimetype": "text/x-python",
   "name": "python",
   "nbconvert_exporter": "python",
   "pygments_lexer": "ipython3",
   "version": "3.7.12"
  }
 },
 "nbformat": 4,
 "nbformat_minor": 5
}
