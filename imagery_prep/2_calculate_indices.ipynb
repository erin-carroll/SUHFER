{
 "cells": [
  {
   "cell_type": "code",
   "execution_count": null,
   "id": "dce555fb-aafc-40fd-b031-17e59c647da0",
   "metadata": {},
   "outputs": [],
   "source": [
    "import sys\n",
    "sys.path.append('/global/home/users/erin_carroll/SUFHER')\n",
    "from utilities import *\n",
    "\n",
    "from joblib import Parallel, delayed "
   ]
  },
  {
   "cell_type": "code",
   "execution_count": null,
   "id": "cc0a9bd8-cf4c-4f51-999c-077cbb98565f",
   "metadata": {},
   "outputs": [],
   "source": [
    "# only include tiles which substantially intersect suhfer project area (identified in prepare_timeseries_Ben)\n",
    "tiles = ['12SXH','12SXJ','12SYG','12SYH','12SYJ','13SBB','13SBC','13SBD','13SCC','13SCD']"
   ]
  },
  {
   "cell_type": "code",
   "execution_count": 3,
   "id": "2dba3f4c-35ba-499a-87c7-bda395ba9e5f",
   "metadata": {},
   "outputs": [],
   "source": [
    "tif_folder = '/global/scratch/users/erin_carroll/data/tifs/GMUG_/'"
   ]
  },
  {
   "cell_type": "code",
   "execution_count": 6,
   "id": "c7dd4b96-83ed-4a40-857a-45976ceb2923",
   "metadata": {},
   "outputs": [
    {
     "data": {
      "text/plain": [
       "192"
      ]
     },
     "execution_count": 6,
     "metadata": {},
     "output_type": "execute_result"
    }
   ],
   "source": [
    "fps = sorted(glob.glob(tif_folder + '/*/*/*/*mosaic.tif'))\n",
    "fps = [x for x in fps if '0m' not in x and not any(sub in x for sub in tiles_done)]\n",
    "len(fps)"
   ]
  },
  {
   "cell_type": "code",
   "execution_count": null,
   "id": "a83cd226-7d3d-476b-a8b7-b92370251b67",
   "metadata": {},
   "outputs": [],
   "source": [
    "failed = Parallel(n_jobs=5)(\n",
    "    delayed(calculate_ndvi_ndmi)(fp) for fp in fps\n",
    ")\n",
    "failed"
   ]
  }
 ],
 "metadata": {
  "kernelspec": {
   "display_name": "CNN_GDAL_37",
   "language": "python",
   "name": "cnn_gdal_37"
  },
  "language_info": {
   "codemirror_mode": {
    "name": "ipython",
    "version": 3
   },
   "file_extension": ".py",
   "mimetype": "text/x-python",
   "name": "python",
   "nbconvert_exporter": "python",
   "pygments_lexer": "ipython3",
   "version": "3.7.12"
  }
 },
 "nbformat": 4,
 "nbformat_minor": 5
}
